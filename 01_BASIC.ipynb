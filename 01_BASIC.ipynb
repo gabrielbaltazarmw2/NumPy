{
  "nbformat": 4,
  "nbformat_minor": 0,
  "metadata": {
    "colab": {
      "provenance": [],
      "authorship_tag": "ABX9TyML7zuCK5fFUnW/1egOLsRN",
      "include_colab_link": true
    },
    "kernelspec": {
      "name": "python3",
      "display_name": "Python 3"
    },
    "language_info": {
      "name": "python"
    }
  },
  "cells": [
    {
      "cell_type": "markdown",
      "metadata": {
        "id": "view-in-github",
        "colab_type": "text"
      },
      "source": [
        "<a href=\"https://colab.research.google.com/github/gabrielbaltazarmw2/NumPy/blob/main/01_BASIC.ipynb\" target=\"_parent\"><img src=\"https://colab.research.google.com/assets/colab-badge.svg\" alt=\"Open In Colab\"/></a>"
      ]
    },
    {
      "cell_type": "markdown",
      "source": [
        "**NumPy Basic: exercícios, prática, solução**\n",
        "\n",
        "from: https://www.w3resource.com/python-exercises/numpy/basic/index.php"
      ],
      "metadata": {
        "id": "64PZCO5TGnHY"
      }
    },
    {
      "cell_type": "code",
      "execution_count": 1,
      "metadata": {
        "id": "1kXFP2XbGSWj"
      },
      "outputs": [],
      "source": [
        "import numpy as np"
      ]
    },
    {
      "cell_type": "code",
      "source": [
        "np.__version__"
      ],
      "metadata": {
        "colab": {
          "base_uri": "https://localhost:8080/",
          "height": 36
        },
        "id": "20520Os5G9FR",
        "outputId": "804cb21a-9771-4820-a39e-3ec29034c043"
      },
      "execution_count": 2,
      "outputs": [
        {
          "output_type": "execute_result",
          "data": {
            "text/plain": [
              "'1.22.4'"
            ],
            "application/vnd.google.colaboratory.intrinsic+json": {
              "type": "string"
            }
          },
          "metadata": {},
          "execution_count": 2
        }
      ]
    },
    {
      "cell_type": "code",
      "source": [
        "np.show_config()"
      ],
      "metadata": {
        "id": "7sDAXf5zHPOM"
      },
      "execution_count": null,
      "outputs": []
    },
    {
      "cell_type": "markdown",
      "source": [
        "Escreva um programa NumPy para testar se nenhum dos elementos de uma determinada matriz é zero:"
      ],
      "metadata": {
        "id": "DAhpK-zLIEYm"
      }
    },
    {
      "cell_type": "code",
      "source": [
        "x = np.array([1,2,3,4])\n",
        "print(x)\n",
        "print(np.all(x))\n",
        "z = np.array([0,1,2,3])\n",
        "print(z)\n",
        "np.all(z)"
      ],
      "metadata": {
        "colab": {
          "base_uri": "https://localhost:8080/"
        },
        "id": "85uOjk7_IGeG",
        "outputId": "65fe27fc-9628-4cee-8b3f-5b811df602d2"
      },
      "execution_count": 37,
      "outputs": [
        {
          "output_type": "stream",
          "name": "stdout",
          "text": [
            "[1 2 3 4]\n",
            "True\n",
            "[0 1 2 3]\n"
          ]
        },
        {
          "output_type": "execute_result",
          "data": {
            "text/plain": [
              "False"
            ]
          },
          "metadata": {},
          "execution_count": 37
        }
      ]
    },
    {
      "cell_type": "markdown",
      "source": [
        "Escreva um programa NumPy para testar se algum dos elementos de uma determinada matriz é diferente de zero:"
      ],
      "metadata": {
        "id": "ooD_C9j1LwDb"
      }
    },
    {
      "cell_type": "code",
      "source": [
        "x = np.array([0,0,0,0,1])\n",
        "print(x)\n",
        "print(np.any(x))\n",
        "z = np.zeros(4)\n",
        "print(z)\n",
        "print(np.any(z))"
      ],
      "metadata": {
        "colab": {
          "base_uri": "https://localhost:8080/"
        },
        "id": "RHV_KARHLvTx",
        "outputId": "1f76836a-f0af-4383-d67d-76ff13bb6914"
      },
      "execution_count": 46,
      "outputs": [
        {
          "output_type": "stream",
          "name": "stdout",
          "text": [
            "[0 0 0 0 1]\n",
            "True\n",
            "[0. 0. 0. 0.]\n",
            "False\n"
          ]
        }
      ]
    },
    {
      "cell_type": "markdown",
      "source": [
        "Escreva um programa NumPy para testar a finitude de um determinado array elemento a elemento (não infinito ou não um número):"
      ],
      "metadata": {
        "id": "50bI0Sa2MqaY"
      }
    },
    {
      "cell_type": "code",
      "source": [
        "array = np.array([1.0, np.inf, np.nan, 2.5, np.NINF])\n",
        "print(array)\n",
        "print(np.isfinite(array))"
      ],
      "metadata": {
        "colab": {
          "base_uri": "https://localhost:8080/"
        },
        "id": "WPoqE23VMsO9",
        "outputId": "cf1d3456-414f-45c3-9e70-19af1c92a546"
      },
      "execution_count": 50,
      "outputs": [
        {
          "output_type": "stream",
          "name": "stdout",
          "text": [
            "[ 1.   inf  nan  2.5 -inf]\n",
            "[ True False False  True False]\n"
          ]
        }
      ]
    },
    {
      "cell_type": "markdown",
      "source": [
        "Escreva um programa NumPy para testar elementos a infinito positivo ou negativo:"
      ],
      "metadata": {
        "id": "xoW93dfWOM4c"
      }
    },
    {
      "cell_type": "code",
      "source": [
        "array = np.array([1.0, np.inf, np.nan, 2.5, np.NINF])\n",
        "print(array)\n",
        "print(np.isinf(array))\n",
        "print(np.isneginf(array))"
      ],
      "metadata": {
        "colab": {
          "base_uri": "https://localhost:8080/"
        },
        "id": "xTVd5mIZOOgI",
        "outputId": "3af6c79a-6897-4610-8f57-dc1034d6a921"
      },
      "execution_count": 52,
      "outputs": [
        {
          "output_type": "stream",
          "name": "stdout",
          "text": [
            "[ 1.   inf  nan  2.5 -inf]\n",
            "[False  True False False  True]\n",
            "[False False False False  True]\n"
          ]
        }
      ]
    },
    {
      "cell_type": "markdown",
      "source": [
        "Escreva um programa NumPy para testar elemento a elemento para NaN de uma determinada matriz:"
      ],
      "metadata": {
        "id": "mF6ZTOF0PmlB"
      }
    },
    {
      "cell_type": "code",
      "source": [
        "array = np.array([1.0, np.inf, np.nan, 2.5, np.NINF])\n",
        "print(array)\n",
        "print(np.isnan(array))"
      ],
      "metadata": {
        "colab": {
          "base_uri": "https://localhost:8080/"
        },
        "id": "LryeOSLfPoE6",
        "outputId": "a618fa20-7b6d-418a-b346-253ecac1ac2b"
      },
      "execution_count": 54,
      "outputs": [
        {
          "output_type": "stream",
          "name": "stdout",
          "text": [
            "[ 1.   inf  nan  2.5 -inf]\n",
            "[False False  True False False]\n"
          ]
        }
      ]
    },
    {
      "cell_type": "markdown",
      "source": [
        "Escreva um programa NumPy para testar elementos a números complexos, números reais em uma determinada matriz. Teste também se um dado número é do tipo escalar ou não:"
      ],
      "metadata": {
        "id": "ttoPQ0BOQTO2"
      }
    },
    {
      "cell_type": "code",
      "source": [
        "matrix = np.array([[1, 1+1j, 1j],\n",
        "                   [-1+1j, -1, -1-1j],\n",
        "                   [-1j, 1-1j, 1]])\n",
        "print(matrix)\n",
        "print(np.iscomplex(matrix))\n",
        "print(np.isreal(matrix))\n",
        "print(np.isscalar(matrix))\n",
        "print(matrix.shape)"
      ],
      "metadata": {
        "id": "7EHR8JzSQxEI"
      },
      "execution_count": null,
      "outputs": []
    },
    {
      "cell_type": "code",
      "source": [
        "print(matrix,\"\\n\")\n",
        "print(matrix[0:1],\"\\n\")\n"
      ],
      "metadata": {
        "id": "0oKZRfT_SxbG"
      },
      "execution_count": null,
      "outputs": []
    },
    {
      "cell_type": "markdown",
      "source": [
        "Escreva um programa NumPy para testar se duas matrizes são iguais em elementos dentro de uma tolerância:"
      ],
      "metadata": {
        "id": "AsF6mVjmUi_C"
      }
    },
    {
      "cell_type": "code",
      "source": [
        "a = np.arange(0,6,1)\n",
        "b = np.array([0.1, 1.3, 2.2, 3, 4.5, 4.9])\n",
        "print(a,'\\n',b)\n",
        "\n",
        "print(np.allclose(a, b, atol=0.5))"
      ],
      "metadata": {
        "colab": {
          "base_uri": "https://localhost:8080/"
        },
        "id": "AxUfHs-GUoZV",
        "outputId": "ad858cf1-79dc-4d2a-8711-97f0d320ec9b"
      },
      "execution_count": 109,
      "outputs": [
        {
          "output_type": "stream",
          "name": "stdout",
          "text": [
            "[0 1 2 3 4 5] \n",
            " [0.1 1.3 2.2 3.  4.5 4.9]\n",
            "True\n"
          ]
        }
      ]
    },
    {
      "cell_type": "markdown",
      "source": [
        "Escreva um programa NumPy para criar uma comparação elementar (maior, maior_igual, menor e menor_igual) de duas matrizes fornecidas:"
      ],
      "metadata": {
        "id": "OGD2HNxrXUqb"
      }
    },
    {
      "cell_type": "code",
      "source": [
        "matriz1 = np.array([[1, 2, 3],\n",
        "                    [4, 5, 6]])\n",
        "\n",
        "matriz2 = np.array([[1, 3, 2],\n",
        "                    [1, 6, 5]])\n",
        "print(matriz1,'\\n')\n",
        "print(matriz2,'\\n')\n",
        "\n",
        "print(matriz1>matriz2,'\\n')\n",
        "print(matriz1>=matriz2,'\\n')\n",
        "print(matriz1<matriz2,'\\n')\n",
        "print(matriz1<=matriz2,'\\n')"
      ],
      "metadata": {
        "colab": {
          "base_uri": "https://localhost:8080/"
        },
        "id": "arJQNZe4XWXi",
        "outputId": "36c7cc32-9e28-4668-af4d-0c967dc2ba1e"
      },
      "execution_count": 115,
      "outputs": [
        {
          "output_type": "stream",
          "name": "stdout",
          "text": [
            "[[1 2 3]\n",
            " [4 5 6]] \n",
            "\n",
            "[[1 3 2]\n",
            " [1 6 5]] \n",
            "\n",
            "[[False False  True]\n",
            " [ True False  True]] \n",
            "\n",
            "[[ True False  True]\n",
            " [ True False  True]] \n",
            "\n",
            "[[False  True False]\n",
            " [False  True False]] \n",
            "\n",
            "[[ True  True False]\n",
            " [False  True False]] \n",
            "\n"
          ]
        }
      ]
    }
  ]
}