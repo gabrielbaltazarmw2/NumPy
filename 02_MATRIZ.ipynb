{
  "nbformat": 4,
  "nbformat_minor": 0,
  "metadata": {
    "colab": {
      "provenance": [],
      "authorship_tag": "ABX9TyOt1kqWoxywRzNewuO7ZUQZ",
      "include_colab_link": true
    },
    "kernelspec": {
      "name": "python3",
      "display_name": "Python 3"
    },
    "language_info": {
      "name": "python"
    }
  },
  "cells": [
    {
      "cell_type": "markdown",
      "metadata": {
        "id": "view-in-github",
        "colab_type": "text"
      },
      "source": [
        "<a href=\"https://colab.research.google.com/github/gabrielbaltazarmw2/NumPy/blob/main/02_MATRIZ.ipynb\" target=\"_parent\"><img src=\"https://colab.research.google.com/assets/colab-badge.svg\" alt=\"Open In Colab\"/></a>"
      ]
    },
    {
      "cell_type": "markdown",
      "source": [
        "NumPy: exercícios de objeto de matriz, prática, solução:\n",
        "\n",
        "https://www.w3resource.com/python-exercises/numpy/index-array.php"
      ],
      "metadata": {
        "id": "wRg9o0QCcmQd"
      }
    },
    {
      "cell_type": "code",
      "execution_count": 2,
      "metadata": {
        "id": "dmcG7wOycTVa"
      },
      "outputs": [],
      "source": [
        "import numpy as np"
      ]
    },
    {
      "cell_type": "markdown",
      "source": [
        "1d array:"
      ],
      "metadata": {
        "id": "7jnAJUoddSFB"
      }
    },
    {
      "cell_type": "code",
      "source": [
        "x = np.arange(5).reshape(5)\n",
        "x"
      ],
      "metadata": {
        "colab": {
          "base_uri": "https://localhost:8080/"
        },
        "id": "-UplA1dtdQcL",
        "outputId": "9cada343-16f3-4ddf-afb5-afe6497b85ca"
      },
      "execution_count": 6,
      "outputs": [
        {
          "output_type": "execute_result",
          "data": {
            "text/plain": [
              "array([0, 1, 2, 3, 4])"
            ]
          },
          "metadata": {},
          "execution_count": 6
        }
      ]
    },
    {
      "cell_type": "markdown",
      "source": [
        "2d array:"
      ],
      "metadata": {
        "id": "sZWDpP--dmG_"
      }
    },
    {
      "cell_type": "code",
      "source": [
        "x = np.arange(8)\n",
        "print(x)\n",
        "print(x.shape)\n",
        "x = x.reshape(2,4)\n",
        "print(x); print(x.shape)"
      ],
      "metadata": {
        "colab": {
          "base_uri": "https://localhost:8080/"
        },
        "id": "m-_pPGHndnk2",
        "outputId": "8260e748-4ce5-4794-f52a-d73c736f3deb"
      },
      "execution_count": 10,
      "outputs": [
        {
          "output_type": "stream",
          "name": "stdout",
          "text": [
            "[0 1 2 3 4 5 6 7]\n",
            "(8,)\n",
            "[[0 1 2 3]\n",
            " [4 5 6 7]]\n",
            "(2, 4)\n"
          ]
        }
      ]
    },
    {
      "cell_type": "markdown",
      "source": [
        "3d array:"
      ],
      "metadata": {
        "id": "MQFr0LTLr7Wo"
      }
    },
    {
      "cell_type": "code",
      "source": [
        "x = np.arange(16).reshape(2,2,4)\n",
        "print(x)"
      ],
      "metadata": {
        "colab": {
          "base_uri": "https://localhost:8080/"
        },
        "id": "P0Rf9SJgr8-o",
        "outputId": "3033ca50-ef47-49c9-fd7a-384d8643993d"
      },
      "execution_count": 14,
      "outputs": [
        {
          "output_type": "stream",
          "name": "stdout",
          "text": [
            "[[[ 0  1  2  3]\n",
            "  [ 4  5  6  7]]\n",
            "\n",
            " [[ 8  9 10 11]\n",
            "  [12 13 14 15]]]\n"
          ]
        }
      ]
    },
    {
      "cell_type": "code",
      "source": [
        "np.__version__"
      ],
      "metadata": {
        "colab": {
          "base_uri": "https://localhost:8080/",
          "height": 36
        },
        "id": "pIAEXlRJt8r0",
        "outputId": "09f3bce4-4f63-4256-a1b6-09f5c3753548"
      },
      "execution_count": 15,
      "outputs": [
        {
          "output_type": "execute_result",
          "data": {
            "text/plain": [
              "'1.22.4'"
            ],
            "application/vnd.google.colaboratory.intrinsic+json": {
              "type": "string"
            }
          },
          "metadata": {},
          "execution_count": 15
        }
      ]
    },
    {
      "cell_type": "markdown",
      "source": [
        "Escreva um programa NumPy para converter uma lista de valores numéricos em uma matriz NumPy bidimensional:"
      ],
      "metadata": {
        "id": "ZrS750M4u8XL"
      }
    },
    {
      "cell_type": "code",
      "source": [
        "x = [1, 2, 3, 4]\n",
        "print(type(x))\n",
        "x = np.array(x).reshape(2,2)\n",
        "print(type(x))\n",
        "print(x)"
      ],
      "metadata": {
        "colab": {
          "base_uri": "https://localhost:8080/"
        },
        "id": "qnFYyh5yuAm7",
        "outputId": "b16799ff-5888-41dc-98a9-f10d0118fd4c"
      },
      "execution_count": 27,
      "outputs": [
        {
          "output_type": "stream",
          "name": "stdout",
          "text": [
            "<class 'list'>\n",
            "<class 'numpy.ndarray'>\n",
            "[[1 2]\n",
            " [3 4]]\n"
          ]
        }
      ]
    },
    {
      "cell_type": "markdown",
      "source": [
        "Escreva um programa NumPy para criar uma matriz 3x3 com valores variando de 2 a 10:"
      ],
      "metadata": {
        "id": "zUt24FNczD5H"
      }
    },
    {
      "cell_type": "code",
      "source": [
        "x = np.arange(2,11)\n",
        "print(x,len(x))\n",
        "print(x.reshape(3,3))"
      ],
      "metadata": {
        "colab": {
          "base_uri": "https://localhost:8080/"
        },
        "id": "bdLwsJxuzFDP",
        "outputId": "89e5c8cf-d826-462c-c559-acc6c9039391"
      },
      "execution_count": 34,
      "outputs": [
        {
          "output_type": "stream",
          "name": "stdout",
          "text": [
            "[ 2  3  4  5  6  7  8  9 10] 9\n",
            "[[ 2  3  4]\n",
            " [ 5  6  7]\n",
            " [ 8  9 10]]\n"
          ]
        },
        {
          "output_type": "execute_result",
          "data": {
            "text/plain": [
              "7"
            ]
          },
          "metadata": {},
          "execution_count": 34
        }
      ]
    },
    {
      "cell_type": "markdown",
      "source": [
        "Escreva um programa NumPy para criar um vetor nulo de tamanho 10 e atualize o sexto valor para 11."
      ],
      "metadata": {
        "id": "a6qCF8BEz_RW"
      }
    },
    {
      "cell_type": "code",
      "source": [
        "x = np.zeros(10)\n",
        "print(x)\n",
        "x[5]=11\n",
        "print(x)"
      ],
      "metadata": {
        "colab": {
          "base_uri": "https://localhost:8080/"
        },
        "id": "wDK0ObNiz-u3",
        "outputId": "6dcf2edc-97bf-4a3e-b342-b209960868ca"
      },
      "execution_count": 40,
      "outputs": [
        {
          "output_type": "stream",
          "name": "stdout",
          "text": [
            "[0. 0. 0. 0. 0. 0. 0. 0. 0. 0.]\n",
            "[ 0.  0.  0.  0.  0. 11.  0.  0.  0.  0.]\n"
          ]
        }
      ]
    },
    {
      "cell_type": "markdown",
      "source": [
        "Escreva um programa NumPy para inverter uma matriz (o primeiro elemento se torna o último):"
      ],
      "metadata": {
        "id": "aYK77FVq0kYx"
      }
    },
    {
      "cell_type": "code",
      "source": [
        "x = np.arange(11)\n",
        "print(x)\n",
        "print(x[::-1])"
      ],
      "metadata": {
        "colab": {
          "base_uri": "https://localhost:8080/"
        },
        "id": "iEfNhwPl0ldy",
        "outputId": "cbd1a9b0-6708-4500-83ef-f0191afa1dcc"
      },
      "execution_count": 49,
      "outputs": [
        {
          "output_type": "stream",
          "name": "stdout",
          "text": [
            "[ 0  1  2  3  4  5  6  7  8  9 10]\n",
            "[10  9  8  7  6  5  4  3  2  1  0]\n"
          ]
        }
      ]
    },
    {
      "cell_type": "markdown",
      "source": [
        "Escreva um programa NumPy para converter uma matriz em um tipo flutuante:"
      ],
      "metadata": {
        "id": "grDPRznv1TmT"
      }
    },
    {
      "cell_type": "code",
      "source": [
        "x = np.arange(11)\n",
        "x = np.asfarray(x)\n",
        "print(x)"
      ],
      "metadata": {
        "colab": {
          "base_uri": "https://localhost:8080/"
        },
        "id": "L1RbxpHx1UtU",
        "outputId": "1fe53e81-209c-4b7e-cf9d-7dae4733aec5"
      },
      "execution_count": 53,
      "outputs": [
        {
          "output_type": "stream",
          "name": "stdout",
          "text": [
            "[ 0.  1.  2.  3.  4.  5.  6.  7.  8.  9. 10.]\n"
          ]
        }
      ]
    },
    {
      "cell_type": "markdown",
      "source": [
        "Escreva um programa NumPy para criar uma matriz 2D com 1 na borda e 0 no interior:"
      ],
      "metadata": {
        "id": "VkmE0Olt2Im9"
      }
    },
    {
      "cell_type": "code",
      "source": [
        "x = np.ones((5,5))\n",
        "print(x)\n",
        "x[1:-1,1:-1] = 0\n",
        "print(x)"
      ],
      "metadata": {
        "colab": {
          "base_uri": "https://localhost:8080/"
        },
        "id": "GgZhhJSD2JlK",
        "outputId": "b35c508d-0e66-44a1-af59-05d478ab6074"
      },
      "execution_count": 60,
      "outputs": [
        {
          "output_type": "stream",
          "name": "stdout",
          "text": [
            "[[1. 1. 1. 1. 1.]\n",
            " [1. 1. 1. 1. 1.]\n",
            " [1. 1. 1. 1. 1.]\n",
            " [1. 1. 1. 1. 1.]\n",
            " [1. 1. 1. 1. 1.]]\n",
            "[[1. 1. 1. 1. 1.]\n",
            " [1. 0. 0. 0. 1.]\n",
            " [1. 0. 0. 0. 1.]\n",
            " [1. 0. 0. 0. 1.]\n",
            " [1. 1. 1. 1. 1.]]\n"
          ]
        }
      ]
    },
    {
      "cell_type": "markdown",
      "source": [
        "Escreva um programa NumPy para adicionar uma borda (preenchida com 0's) ao redor de um array existente:"
      ],
      "metadata": {
        "id": "kklPkKsg3b97"
      }
    },
    {
      "cell_type": "code",
      "source": [
        "x = np.ones((5,5))\n",
        "print(x)\n",
        "x[:1]=0; x[-1:]=0; x[:,:1]=0; x[:,-1:]=0\n",
        "print(x)"
      ],
      "metadata": {
        "colab": {
          "base_uri": "https://localhost:8080/"
        },
        "id": "hZ5mQEYj3dTa",
        "outputId": "9958a64a-fbc6-4a1b-91ff-1cd38f435516"
      },
      "execution_count": 76,
      "outputs": [
        {
          "output_type": "stream",
          "name": "stdout",
          "text": [
            "[[1. 1. 1. 1. 1.]\n",
            " [1. 1. 1. 1. 1.]\n",
            " [1. 1. 1. 1. 1.]\n",
            " [1. 1. 1. 1. 1.]\n",
            " [1. 1. 1. 1. 1.]]\n",
            "[[0. 0. 0. 0. 0.]\n",
            " [0. 1. 1. 1. 0.]\n",
            " [0. 1. 1. 1. 0.]\n",
            " [0. 1. 1. 1. 0.]\n",
            " [0. 0. 0. 0. 0.]]\n"
          ]
        }
      ]
    },
    {
      "cell_type": "code",
      "source": [
        "x = np.ones((3,3))\n",
        "print(x)\n",
        "x = np.pad(x, pad_width=2, mode='constant', constant_values=0)\n",
        "print(x)"
      ],
      "metadata": {
        "colab": {
          "base_uri": "https://localhost:8080/"
        },
        "id": "h96oqtNq5108",
        "outputId": "61789ffb-fc70-43c9-c418-f279cdb31932"
      },
      "execution_count": 81,
      "outputs": [
        {
          "output_type": "stream",
          "name": "stdout",
          "text": [
            "[[1. 1. 1.]\n",
            " [1. 1. 1.]\n",
            " [1. 1. 1.]]\n",
            "[[0. 0. 0. 0. 0. 0. 0.]\n",
            " [0. 0. 0. 0. 0. 0. 0.]\n",
            " [0. 0. 1. 1. 1. 0. 0.]\n",
            " [0. 0. 1. 1. 1. 0. 0.]\n",
            " [0. 0. 1. 1. 1. 0. 0.]\n",
            " [0. 0. 0. 0. 0. 0. 0.]\n",
            " [0. 0. 0. 0. 0. 0. 0.]]\n"
          ]
        }
      ]
    },
    {
      "cell_type": "markdown",
      "source": [
        "Escreva um programa NumPy para criar uma matriz 8x8 e preenchê-la com um padrão quadriculado:"
      ],
      "metadata": {
        "id": "8PL1J0ri67bG"
      }
    },
    {
      "cell_type": "code",
      "source": [
        "x = np.ones((64))\n",
        "print(x.shape)\n",
        "x = x.reshape((8,8))\n",
        "x[1::2,::2] = 0\n",
        "x[::2,1::2] = 0\n",
        "print(x, x.shape)"
      ],
      "metadata": {
        "colab": {
          "base_uri": "https://localhost:8080/"
        },
        "id": "ia6i3fiQ68TH",
        "outputId": "c0081a98-2b47-48b4-c880-ffb9b4623284"
      },
      "execution_count": 101,
      "outputs": [
        {
          "output_type": "stream",
          "name": "stdout",
          "text": [
            "(64,)\n",
            "[[1. 0. 1. 0. 1. 0. 1. 0.]\n",
            " [0. 1. 0. 1. 0. 1. 0. 1.]\n",
            " [1. 0. 1. 0. 1. 0. 1. 0.]\n",
            " [0. 1. 0. 1. 0. 1. 0. 1.]\n",
            " [1. 0. 1. 0. 1. 0. 1. 0.]\n",
            " [0. 1. 0. 1. 0. 1. 0. 1.]\n",
            " [1. 0. 1. 0. 1. 0. 1. 0.]\n",
            " [0. 1. 0. 1. 0. 1. 0. 1.]] (8, 8)\n"
          ]
        }
      ]
    },
    {
      "cell_type": "markdown",
      "source": [
        "Escreva um programa NumPy para converter uma lista e tupla em arrays.\n",
        "List to array:"
      ],
      "metadata": {
        "id": "EfTgDywZ-nwo"
      }
    },
    {
      "cell_type": "code",
      "source": [
        "lista = [1, 2, 3, 4, 5]\n",
        "print(type(lista))\n",
        "tupla = ([1,2,4],[4,5,6])\n",
        "print(type(tupla))\n",
        "lista = np.array(lista)\n",
        "print(lista, type(lista))\n",
        "tupla = np.asarray(tupla)\n",
        "print(tupla, type(tupla))\n"
      ],
      "metadata": {
        "colab": {
          "base_uri": "https://localhost:8080/"
        },
        "id": "C7dYr6Si-nSG",
        "outputId": "cf35b568-48f6-4a1b-f3d0-6d33520d3b0a"
      },
      "execution_count": 120,
      "outputs": [
        {
          "output_type": "stream",
          "name": "stdout",
          "text": [
            "<class 'list'>\n",
            "<class 'tuple'>\n",
            "[1 2 3 4 5] <class 'numpy.ndarray'>\n",
            "[[1 2 4]\n",
            " [4 5 6]] <class 'numpy.ndarray'>\n"
          ]
        }
      ]
    },
    {
      "cell_type": "markdown",
      "source": [
        "Escreva um programa NumPy para anexar valores ao final de uma matriz:"
      ],
      "metadata": {
        "id": "rCmmudX8ApS1"
      }
    },
    {
      "cell_type": "code",
      "source": [
        "x = np.arange(10,31,10)\n",
        "y = np.array([40, 50, 60])\n",
        "x = np.append(x,[y,[70,80,90]])\n",
        "print(x)"
      ],
      "metadata": {
        "colab": {
          "base_uri": "https://localhost:8080/"
        },
        "id": "KrVRTUEkAqro",
        "outputId": "d8f492a8-6330-4924-baeb-d4c31fadad42"
      },
      "execution_count": 131,
      "outputs": [
        {
          "output_type": "stream",
          "name": "stdout",
          "text": [
            "[10 20 30 40 50 60 70 80 90]\n"
          ]
        }
      ]
    }
  ]
}